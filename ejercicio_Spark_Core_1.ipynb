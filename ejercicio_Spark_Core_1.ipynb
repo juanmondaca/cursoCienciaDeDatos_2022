{
 "cells": [
  {
   "cell_type": "code",
   "execution_count": 1,
   "id": "354dd6f8",
   "metadata": {},
   "outputs": [],
   "source": [
    "# import SparkContext\n",
    "# crear un objeto de tipo SparkContext\n",
    "from pyspark import SparkContext"
   ]
  },
  {
   "cell_type": "code",
   "execution_count": 2,
   "id": "b5fbcf10",
   "metadata": {},
   "outputs": [],
   "source": [
    "sc = SparkContext.getOrCreate()"
   ]
  },
  {
   "cell_type": "code",
   "execution_count": 3,
   "id": "c519c50f",
   "metadata": {},
   "outputs": [
    {
     "data": {
      "text/plain": [
       "list"
      ]
     },
     "execution_count": 3,
     "metadata": {},
     "output_type": "execute_result"
    }
   ],
   "source": [
    "# operaciones fundamentales con sc\n",
    "# 1. Cargar un datatset\n",
    "listaNumeros = [1,11,3,-7,0,90,34,-65,0.5,88,120]\n",
    "type(listaNumeros)"
   ]
  },
  {
   "cell_type": "code",
   "execution_count": 14,
   "id": "09b4a0d9",
   "metadata": {},
   "outputs": [],
   "source": [
    "# cargar el daatset en Spark\n",
    "listaNumerosRDD = sc.parallelize(listaNumeros)"
   ]
  },
  {
   "cell_type": "code",
   "execution_count": 15,
   "id": "15d2b8f2",
   "metadata": {},
   "outputs": [
    {
     "name": "stdout",
     "output_type": "stream",
     "text": [
      " numero de particiones a nivel de CPU usadas :->  4\n"
     ]
    }
   ],
   "source": [
    "print(\" numero de particiones a nivel de CPU usadas :-> \", listaNumerosRDD.getNumPartitions())"
   ]
  },
  {
   "cell_type": "code",
   "execution_count": 5,
   "id": "9ef396c7",
   "metadata": {},
   "outputs": [
    {
     "data": {
      "text/plain": [
       "pyspark.rdd.RDD"
      ]
     },
     "execution_count": 5,
     "metadata": {},
     "output_type": "execute_result"
    }
   ],
   "source": [
    "type(listaNumerosRDD)"
   ]
  },
  {
   "cell_type": "code",
   "execution_count": 6,
   "id": "4105d9cc",
   "metadata": {},
   "outputs": [
    {
     "data": {
      "text/plain": [
       "ParallelCollectionRDD[0] at readRDDFromFile at PythonRDD.scala:262"
      ]
     },
     "execution_count": 6,
     "metadata": {},
     "output_type": "execute_result"
    }
   ],
   "source": [
    "listaNumerosRDD"
   ]
  },
  {
   "cell_type": "code",
   "execution_count": 7,
   "id": "7b72650c",
   "metadata": {},
   "outputs": [],
   "source": [
    "# 2. map :-> realizar  transformaciones sobre el dataset distribuido"
   ]
  },
  {
   "cell_type": "code",
   "execution_count": 8,
   "id": "295ac924",
   "metadata": {
    "scrolled": true
   },
   "outputs": [
    {
     "data": {
      "text/plain": [
       "[1, 121, 9]"
      ]
     },
     "execution_count": 8,
     "metadata": {},
     "output_type": "execute_result"
    }
   ],
   "source": [
    "listaNumerosCuadradosRDD = listaNumerosRDD.map(lambda n : n*n)\n",
    "listaNumerosCuadradosRDD.take(3)"
   ]
  },
  {
   "cell_type": "code",
   "execution_count": 9,
   "id": "a6ffbb8d",
   "metadata": {},
   "outputs": [
    {
     "name": "stdout",
     "output_type": "stream",
     "text": [
      "<class 'pyspark.rdd.PipelinedRDD'>\n"
     ]
    }
   ],
   "source": [
    "print(type(listaNumerosCuadradosRDD))"
   ]
  },
  {
   "cell_type": "code",
   "execution_count": 10,
   "id": "6ddc75ab",
   "metadata": {},
   "outputs": [],
   "source": [
    "# 3. reduce :-> producir un output del proceso Spark\n",
    "# output :-> un numero, un archivo, un objeto Python, en una Base datos, modelo ML"
   ]
  },
  {
   "cell_type": "code",
   "execution_count": 11,
   "id": "e7e33eaa",
   "metadata": {},
   "outputs": [],
   "source": [
    "listaNumerosCuadradosPython = listaNumerosCuadradosRDD.collect()"
   ]
  },
  {
   "cell_type": "code",
   "execution_count": 12,
   "id": "f2486dc0",
   "metadata": {},
   "outputs": [
    {
     "data": {
      "text/plain": [
       "[1, 121, 9, 49, 0, 8100, 1156, 4225, 0.25, 7744, 14400]"
      ]
     },
     "execution_count": 12,
     "metadata": {},
     "output_type": "execute_result"
    }
   ],
   "source": [
    "listaNumerosCuadradosPython"
   ]
  },
  {
   "cell_type": "code",
   "execution_count": 13,
   "id": "e37838e7",
   "metadata": {},
   "outputs": [
    {
     "data": {
      "text/plain": [
       "list"
      ]
     },
     "execution_count": 13,
     "metadata": {},
     "output_type": "execute_result"
    }
   ],
   "source": [
    "type(listaNumerosCuadradosPython)"
   ]
  },
  {
   "cell_type": "code",
   "execution_count": 16,
   "id": "bf5d589c",
   "metadata": {},
   "outputs": [],
   "source": [
    "# 3.1 otro tipo de reduce :-> el metodo de reduce"
   ]
  },
  {
   "cell_type": "code",
   "execution_count": 17,
   "id": "2a7ea196",
   "metadata": {},
   "outputs": [
    {
     "data": {
      "text/plain": [
       "35805.25"
      ]
     },
     "execution_count": 17,
     "metadata": {},
     "output_type": "execute_result"
    }
   ],
   "source": [
    "listaNumerosSumados = listaNumerosCuadradosRDD.reduce(lambda n1,n2 : n1 + n2)\n",
    "listaNumerosSumados"
   ]
  },
  {
   "cell_type": "code",
   "execution_count": null,
   "id": "6ef4a664",
   "metadata": {},
   "outputs": [],
   "source": []
  }
 ],
 "metadata": {
  "kernelspec": {
   "display_name": "Python 3 (ipykernel)",
   "language": "python",
   "name": "python3"
  },
  "language_info": {
   "codemirror_mode": {
    "name": "ipython",
    "version": 3
   },
   "file_extension": ".py",
   "mimetype": "text/x-python",
   "name": "python",
   "nbconvert_exporter": "python",
   "pygments_lexer": "ipython3",
   "version": "3.8.10"
  }
 },
 "nbformat": 4,
 "nbformat_minor": 5
}
