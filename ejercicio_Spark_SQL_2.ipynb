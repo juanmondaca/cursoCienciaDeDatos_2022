{
 "cells": [
  {
   "cell_type": "code",
   "execution_count": 1,
   "id": "244ce91f",
   "metadata": {},
   "outputs": [],
   "source": [
    "# Como usar instrucciones del lenguaje SQL con SparkSession"
   ]
  },
  {
   "cell_type": "code",
   "execution_count": 2,
   "id": "973a733e",
   "metadata": {},
   "outputs": [],
   "source": [
    "from pyspark.sql import SparkSession"
   ]
  },
  {
   "cell_type": "code",
   "execution_count": 3,
   "id": "80f5f4f1",
   "metadata": {},
   "outputs": [],
   "source": [
    "spark = SparkSession.builder.getOrCreate()"
   ]
  },
  {
   "cell_type": "code",
   "execution_count": 6,
   "id": "d0706326",
   "metadata": {},
   "outputs": [],
   "source": [
    "# es una transformacion -> map\n",
    "datosEstudiantesDF = spark.read.csv('file:///c:/archivos/datos_estudiantes.csv',header=True)"
   ]
  },
  {
   "cell_type": "code",
   "execution_count": 7,
   "id": "d951e2bd",
   "metadata": {
    "collapsed": true
   },
   "outputs": [
    {
     "name": "stdout",
     "output_type": "stream",
     "text": [
      "+------------+---------+------+------------+\n",
      "|idEstudiante|   Nombre|Genero|FechaIngreso|\n",
      "+------------+---------+------+------------+\n",
      "|          s1|  Soledad|     F|  01-03-2019|\n",
      "|          s2|   Sandra|     F|  01-07-2019|\n",
      "|          s3| Benjamin|     M|  01-03-2017|\n",
      "|          s4|     Juan|     M|  01-07-2018|\n",
      "|          s5|Sebastian|     M|  01-03-2018|\n",
      "|          s6|    Julia|     F|  01-03-2020|\n",
      "+------------+---------+------+------------+\n",
      "\n"
     ]
    }
   ],
   "source": [
    "# es una accion -> reduce\n",
    "# datosEstudiantesDF.show()"
   ]
  },
  {
   "cell_type": "code",
   "execution_count": 8,
   "id": "d7986733",
   "metadata": {},
   "outputs": [],
   "source": [
    "lenguajesEstudianteDF = spark.read.csv('file:///c:/archivos/lenguajes_estudiantes.csv',header=True)"
   ]
  },
  {
   "cell_type": "code",
   "execution_count": 9,
   "id": "5dcd7ae0",
   "metadata": {
    "collapsed": true
   },
   "outputs": [
    {
     "name": "stdout",
     "output_type": "stream",
     "text": [
      "+------------+--------+----+\n",
      "|idEstudiante|Lenguaje|Nota|\n",
      "+------------+--------+----+\n",
      "|          s1|  Python|  90|\n",
      "|          s3|    Java|  62|\n",
      "|          s1|    Java|  78|\n",
      "|          s2|  Python|  69|\n",
      "|          s3|       R|  80|\n",
      "|          s4|     C++|  78|\n",
      "|          s5|   Scala|  68|\n",
      "|          s4|  Python|  74|\n",
      "|          s2|    Java|  89|\n",
      "|          s6|    Java|  85|\n",
      "+------------+--------+----+\n",
      "\n"
     ]
    }
   ],
   "source": [
    "# lenguajesEstudianteDF.show()"
   ]
  },
  {
   "cell_type": "code",
   "execution_count": 13,
   "id": "19a739f1",
   "metadata": {},
   "outputs": [],
   "source": [
    "# crear una vista asociada al DF datosEstudiantesDF\n",
    "datosEstudiantesDF.createOrReplaceTempView('vDatosEstudiantesDF')\n",
    "lenguajesEstudianteDF.createOrReplaceTempView('vLenguajesEstudianteDF')"
   ]
  },
  {
   "cell_type": "code",
   "execution_count": 15,
   "id": "3ceec3a2",
   "metadata": {},
   "outputs": [
    {
     "name": "stdout",
     "output_type": "stream",
     "text": [
      "+------------+---------+------+------------+\n",
      "|idEstudiante|   Nombre|Genero|FechaIngreso|\n",
      "+------------+---------+------+------------+\n",
      "|          s1|  Soledad|     F|  01-03-2019|\n",
      "|          s2|   Sandra|     F|  01-07-2019|\n",
      "|          s3| Benjamin|     M|  01-03-2017|\n",
      "|          s4|     Juan|     M|  01-07-2018|\n",
      "|          s5|Sebastian|     M|  01-03-2018|\n",
      "|          s6|    Julia|     F|  01-03-2020|\n",
      "+------------+---------+------+------------+\n",
      "\n"
     ]
    }
   ],
   "source": [
    "spark.sql(\"select * from vDatosEstudiantesDF\").show()"
   ]
  },
  {
   "cell_type": "code",
   "execution_count": 14,
   "id": "2950a770",
   "metadata": {
    "collapsed": true
   },
   "outputs": [
    {
     "name": "stdout",
     "output_type": "stream",
     "text": [
      "+------------+--------+----+\n",
      "|idEstudiante|Lenguaje|Nota|\n",
      "+------------+--------+----+\n",
      "|          s1|  Python|  90|\n",
      "|          s3|    Java|  62|\n",
      "|          s1|    Java|  78|\n",
      "|          s2|  Python|  69|\n",
      "|          s3|       R|  80|\n",
      "|          s4|     C++|  78|\n",
      "|          s5|   Scala|  68|\n",
      "|          s4|  Python|  74|\n",
      "|          s2|    Java|  89|\n",
      "|          s6|    Java|  85|\n",
      "+------------+--------+----+\n",
      "\n"
     ]
    }
   ],
   "source": [
    "spark.sql(\"select * from vLenguajesEstudianteDF\").show()"
   ]
  },
  {
   "cell_type": "code",
   "execution_count": 17,
   "id": "a9baaaa8",
   "metadata": {},
   "outputs": [],
   "source": [
    "sqlJoinDF = spark.sql(\"select * from vDatosEstudiantesDF de join vLenguajesEstudianteDF le \\\n",
    "on (de.idEstudiante = le.idEstudiante)\")"
   ]
  },
  {
   "cell_type": "code",
   "execution_count": 18,
   "id": "4d3631f8",
   "metadata": {
    "collapsed": true
   },
   "outputs": [
    {
     "name": "stdout",
     "output_type": "stream",
     "text": [
      "+------------+---------+------+------------+------------+--------+----+\n",
      "|idEstudiante|   Nombre|Genero|FechaIngreso|idEstudiante|Lenguaje|Nota|\n",
      "+------------+---------+------+------------+------------+--------+----+\n",
      "|          s1|  Soledad|     F|  01-03-2019|          s1|    Java|  78|\n",
      "|          s1|  Soledad|     F|  01-03-2019|          s1|  Python|  90|\n",
      "|          s2|   Sandra|     F|  01-07-2019|          s2|    Java|  89|\n",
      "|          s2|   Sandra|     F|  01-07-2019|          s2|  Python|  69|\n",
      "|          s3| Benjamin|     M|  01-03-2017|          s3|       R|  80|\n",
      "|          s3| Benjamin|     M|  01-03-2017|          s3|    Java|  62|\n",
      "|          s4|     Juan|     M|  01-07-2018|          s4|  Python|  74|\n",
      "|          s4|     Juan|     M|  01-07-2018|          s4|     C++|  78|\n",
      "|          s5|Sebastian|     M|  01-03-2018|          s5|   Scala|  68|\n",
      "|          s6|    Julia|     F|  01-03-2020|          s6|    Java|  85|\n",
      "+------------+---------+------+------------+------------+--------+----+\n",
      "\n"
     ]
    }
   ],
   "source": [
    "# sqlJoinDF.show()"
   ]
  },
  {
   "cell_type": "code",
   "execution_count": 19,
   "id": "4ba816c1",
   "metadata": {},
   "outputs": [],
   "source": [
    "sqlGroupByDF = spark.sql(\"select nombre, avg(nota) promedio from vDatosEstudiantesDF de join vLenguajesEstudianteDF \\\n",
    "le on (de.idEstudiante = le.idEstudiante) group by nombre\")"
   ]
  },
  {
   "cell_type": "code",
   "execution_count": 20,
   "id": "8acb9e4f",
   "metadata": {
    "collapsed": true
   },
   "outputs": [
    {
     "name": "stdout",
     "output_type": "stream",
     "text": [
      "+---------+--------+\n",
      "|   nombre|promedio|\n",
      "+---------+--------+\n",
      "| Benjamin|    71.0|\n",
      "|    Julia|    85.0|\n",
      "|   Sandra|    79.0|\n",
      "|Sebastian|    68.0|\n",
      "|  Soledad|    84.0|\n",
      "|     Juan|    76.0|\n",
      "+---------+--------+\n",
      "\n"
     ]
    }
   ],
   "source": [
    "# sqlGroupByDF.show()"
   ]
  },
  {
   "cell_type": "code",
   "execution_count": 21,
   "id": "17907e5a",
   "metadata": {},
   "outputs": [],
   "source": [
    "sqlCountDF = spark.sql(\"select lenguaje, count(nombre) numeroAlumnos from vDatosEstudiantesDF de join vLenguajesEstudianteDF \\\n",
    "le on (de.idEstudiante = le.idEstudiante) group by lenguaje\")"
   ]
  },
  {
   "cell_type": "code",
   "execution_count": 22,
   "id": "20a6c797",
   "metadata": {
    "collapsed": true
   },
   "outputs": [
    {
     "name": "stdout",
     "output_type": "stream",
     "text": [
      "+--------+-------------+\n",
      "|lenguaje|numeroAlumnos|\n",
      "+--------+-------------+\n",
      "|     C++|            1|\n",
      "|       R|            1|\n",
      "|   Scala|            1|\n",
      "|  Python|            3|\n",
      "|    Java|            4|\n",
      "+--------+-------------+\n",
      "\n"
     ]
    }
   ],
   "source": [
    "# sqlCountDF.show()"
   ]
  },
  {
   "cell_type": "code",
   "execution_count": 23,
   "id": "07bde3a3",
   "metadata": {},
   "outputs": [],
   "source": [
    "# funciones windows ... funcion Rank"
   ]
  },
  {
   "cell_type": "code",
   "execution_count": 24,
   "id": "baceb2c4",
   "metadata": {},
   "outputs": [
    {
     "name": "stdout",
     "output_type": "stream",
     "text": [
      "+---------+--------+----+-------+\n",
      "|   nombre|lenguaje|nota|ranking|\n",
      "+---------+--------+----+-------+\n",
      "| Benjamin|    Java|  62|      1|\n",
      "| Benjamin|       R|  80|      1|\n",
      "|     Juan|     C++|  78|      3|\n",
      "|     Juan|  Python|  74|      3|\n",
      "|    Julia|    Java|  85|      5|\n",
      "|   Sandra|  Python|  69|      6|\n",
      "|   Sandra|    Java|  89|      6|\n",
      "|Sebastian|   Scala|  68|      8|\n",
      "|  Soledad|  Python|  90|      9|\n",
      "|  Soledad|    Java|  78|      9|\n",
      "+---------+--------+----+-------+\n",
      "\n"
     ]
    }
   ],
   "source": [
    "spark.sql('select nombre, lenguaje, nota, rank() over (order by nombre) \\\n",
    "as ranking from vDatosEstudiantesDF de join vLenguajesEstudianteDF le on (de.idEstudiante = le.idEstudiante)').show()"
   ]
  },
  {
   "cell_type": "code",
   "execution_count": 26,
   "id": "1c97700b",
   "metadata": {},
   "outputs": [
    {
     "name": "stdout",
     "output_type": "stream",
     "text": [
      "+---------+--------+----+-------+\n",
      "|   nombre|lenguaje|nota|ranking|\n",
      "+---------+--------+----+-------+\n",
      "|     Juan|     C++|  78|      1|\n",
      "| Benjamin|       R|  80|      1|\n",
      "|Sebastian|   Scala|  68|      1|\n",
      "|  Soledad|  Python|  90|      1|\n",
      "|     Juan|  Python|  74|      2|\n",
      "|   Sandra|  Python|  69|      3|\n",
      "|   Sandra|    Java|  89|      1|\n",
      "|    Julia|    Java|  85|      2|\n",
      "|  Soledad|    Java|  78|      3|\n",
      "| Benjamin|    Java|  62|      4|\n",
      "+---------+--------+----+-------+\n",
      "\n"
     ]
    }
   ],
   "source": [
    "# partition by\n",
    "spark.sql('select nombre, lenguaje, nota, rank() over (PARTITION BY  lenguaje \\\n",
    "order by nota desc) as ranking from vDatosEstudiantesDF de join vLenguajesEstudianteDF le \\\n",
    "on (de.idestudiante = le.idestudiante)').show()"
   ]
  },
  {
   "cell_type": "code",
   "execution_count": 30,
   "id": "f0ec873d",
   "metadata": {},
   "outputs": [],
   "source": [
    "mejorRankingDF = spark.sql('select nombre, lenguaje, nota, ranking from (select nombre,lenguaje,nota, rank() \\\n",
    "over (PARTITION BY lenguaje order by nota desc) as ranking from vDatosEstudiantesDF de join vLenguajesEstudianteDF le \\\n",
    "on (de.idestudiante = le.idestudiante)) where ranking <=2')"
   ]
  },
  {
   "cell_type": "code",
   "execution_count": 31,
   "id": "678544c3",
   "metadata": {
    "collapsed": true
   },
   "outputs": [
    {
     "name": "stdout",
     "output_type": "stream",
     "text": [
      "+---------+--------+----+-------+\n",
      "|   nombre|lenguaje|nota|ranking|\n",
      "+---------+--------+----+-------+\n",
      "|     Juan|     C++|  78|      1|\n",
      "| Benjamin|       R|  80|      1|\n",
      "|Sebastian|   Scala|  68|      1|\n",
      "|  Soledad|  Python|  90|      1|\n",
      "|     Juan|  Python|  74|      2|\n",
      "|   Sandra|    Java|  89|      1|\n",
      "|    Julia|    Java|  85|      2|\n",
      "+---------+--------+----+-------+\n",
      "\n"
     ]
    }
   ],
   "source": [
    "mejorRankingDF.show()"
   ]
  },
  {
   "cell_type": "code",
   "execution_count": 32,
   "id": "0bdac547",
   "metadata": {
    "collapsed": true
   },
   "outputs": [
    {
     "name": "stdout",
     "output_type": "stream",
     "text": [
      "+---------+--------+----+-------+\n",
      "|   nombre|lenguaje|nota|ranking|\n",
      "+---------+--------+----+-------+\n",
      "|     Juan|     C++|  78|      1|\n",
      "| Benjamin|       R|  80|      1|\n",
      "|Sebastian|   Scala|  68|      1|\n",
      "|  Soledad|  Python|  90|      1|\n",
      "|     Juan|  Python|  74|      2|\n",
      "|   Sandra|    Java|  89|      1|\n",
      "|    Julia|    Java|  85|      2|\n",
      "+---------+--------+----+-------+\n",
      "\n"
     ]
    }
   ],
   "source": [
    "mejorRankingDF.show()"
   ]
  },
  {
   "cell_type": "code",
   "execution_count": 34,
   "id": "2a4e542d",
   "metadata": {},
   "outputs": [
    {
     "name": "stdout",
     "output_type": "stream",
     "text": [
      "++\n",
      "||\n",
      "++\n",
      "++\n",
      "\n"
     ]
    }
   ],
   "source": [
    "spark.sql(\"cache table estudiantesCache AS select * from vDatosEstudiantesDF\").show()"
   ]
  },
  {
   "cell_type": "code",
   "execution_count": 35,
   "id": "92fa5de0",
   "metadata": {
    "collapsed": true
   },
   "outputs": [
    {
     "name": "stdout",
     "output_type": "stream",
     "text": [
      "+------------+---------+\n",
      "|idestudiante|   nombre|\n",
      "+------------+---------+\n",
      "|          s1|  Soledad|\n",
      "|          s2|   Sandra|\n",
      "|          s3| Benjamin|\n",
      "|          s4|     Juan|\n",
      "|          s5|Sebastian|\n",
      "|          s6|    Julia|\n",
      "+------------+---------+\n",
      "\n"
     ]
    }
   ],
   "source": [
    "spark.sql(\"select idestudiante,nombre from estudiantesCache\").show()"
   ]
  },
  {
   "cell_type": "code",
   "execution_count": 36,
   "id": "285495f1",
   "metadata": {
    "collapsed": true
   },
   "outputs": [
    {
     "name": "stdout",
     "output_type": "stream",
     "text": [
      "+------------+---------+\n",
      "|idestudiante|   nombre|\n",
      "+------------+---------+\n",
      "|          s1|  Soledad|\n",
      "|          s2|   Sandra|\n",
      "|          s3| Benjamin|\n",
      "|          s4|     Juan|\n",
      "|          s5|Sebastian|\n",
      "|          s6|    Julia|\n",
      "+------------+---------+\n",
      "\n"
     ]
    }
   ],
   "source": [
    "spark.sql(\"select idestudiante,nombre from estudiantesCache\").show()"
   ]
  },
  {
   "cell_type": "code",
   "execution_count": null,
   "id": "691767e6",
   "metadata": {},
   "outputs": [],
   "source": []
  }
 ],
 "metadata": {
  "kernelspec": {
   "display_name": "Python 3 (ipykernel)",
   "language": "python",
   "name": "python3"
  },
  "language_info": {
   "codemirror_mode": {
    "name": "ipython",
    "version": 3
   },
   "file_extension": ".py",
   "mimetype": "text/x-python",
   "name": "python",
   "nbconvert_exporter": "python",
   "pygments_lexer": "ipython3",
   "version": "3.8.10"
  }
 },
 "nbformat": 4,
 "nbformat_minor": 5
}
