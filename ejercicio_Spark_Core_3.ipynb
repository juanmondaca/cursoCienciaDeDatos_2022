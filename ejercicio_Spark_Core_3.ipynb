{
 "cells": [
  {
   "cell_type": "code",
   "execution_count": 1,
   "id": "44c0a2ea",
   "metadata": {},
   "outputs": [],
   "source": [
    "# cargar los dataset de estudiante y relacionar su informacion"
   ]
  },
  {
   "cell_type": "code",
   "execution_count": 2,
   "id": "3504b1fe",
   "metadata": {},
   "outputs": [],
   "source": [
    "from pyspark import SparkContext"
   ]
  },
  {
   "cell_type": "code",
   "execution_count": 3,
   "id": "ef67c444",
   "metadata": {},
   "outputs": [],
   "source": [
    "sc = SparkContext.getOrCreate()"
   ]
  },
  {
   "cell_type": "code",
   "execution_count": 8,
   "id": "e2f0702e",
   "metadata": {},
   "outputs": [],
   "source": [
    "datosEstudiantes = [['s1','Ana','D'],['s2','Cristobal','D'],['s3','Benjamin','N'],['s5','Amanda','N'],\n",
    "                    ['s8','Sandra','D']]\n",
    "\n",
    "lenguajesEstudiantes = [['s1','Python'],['s2','R'],['s3','Python'],['s1','Java'],['s3','Python'],\n",
    "                       ['s2','C++'],['s3','Scala'],['s5','Python'],['s10','React']]\n"
   ]
  },
  {
   "cell_type": "code",
   "execution_count": 9,
   "id": "00e88ed1",
   "metadata": {},
   "outputs": [],
   "source": [
    "datosEstudiantesRDD = sc.parallelize(datosEstudiantes)\n",
    "lenguajesEstudiantesRDD = sc.parallelize(lenguajesEstudiantes)"
   ]
  },
  {
   "cell_type": "code",
   "execution_count": 10,
   "id": "95afa594",
   "metadata": {
    "collapsed": true
   },
   "outputs": [
    {
     "data": {
      "text/plain": [
       "[['s1', 'Ana', 'D'],\n",
       " ['s2', 'Cristobal', 'D'],\n",
       " ['s3', 'Benjamin', 'N'],\n",
       " ['s5', 'Amanda', 'N'],\n",
       " ['s8', 'Sandra', 'D']]"
      ]
     },
     "execution_count": 10,
     "metadata": {},
     "output_type": "execute_result"
    }
   ],
   "source": [
    "datosEstudiantesRDD.collect()"
   ]
  },
  {
   "cell_type": "code",
   "execution_count": 14,
   "id": "7cb8d688",
   "metadata": {
    "collapsed": true
   },
   "outputs": [
    {
     "data": {
      "text/plain": [
       "[['s1', 'Python'],\n",
       " ['s2', 'R'],\n",
       " ['s3', 'Python'],\n",
       " ['s1', 'Java'],\n",
       " ['s3', 'Python'],\n",
       " ['s2', 'C++'],\n",
       " ['s3', 'Scala'],\n",
       " ['s5', 'Python'],\n",
       " ['s10', 'React']]"
      ]
     },
     "execution_count": 14,
     "metadata": {},
     "output_type": "execute_result"
    }
   ],
   "source": [
    "lenguajesEstudiantesRDD.collect()"
   ]
  },
  {
   "cell_type": "code",
   "execution_count": 11,
   "id": "7730c328",
   "metadata": {},
   "outputs": [],
   "source": [
    "# construir un lista con formato (k,v)\n",
    "# en datosEstudiantes :-> ['s1',['ana','d']]\n",
    "# lenguajesEstudiantes :-> ['s1','Python']"
   ]
  },
  {
   "cell_type": "code",
   "execution_count": 12,
   "id": "947f6e03",
   "metadata": {
    "collapsed": true
   },
   "outputs": [
    {
     "data": {
      "text/plain": [
       "[('s1', ['Ana', 'D']),\n",
       " ('s2', ['Cristobal', 'D']),\n",
       " ('s3', ['Benjamin', 'N']),\n",
       " ('s5', ['Amanda', 'N']),\n",
       " ('s8', ['Sandra', 'D'])]"
      ]
     },
     "execution_count": 12,
     "metadata": {},
     "output_type": "execute_result"
    }
   ],
   "source": [
    "# haremos una transformacion para obtener la estructura (K,V)\n",
    "datosEstudiantesKVRDD = datosEstudiantesRDD.map(lambda x : (x[0],[x[1],x[2]]) )\n",
    "#datosEstudiantesKVRDD.collect()"
   ]
  },
  {
   "cell_type": "code",
   "execution_count": 18,
   "id": "24c094d7",
   "metadata": {},
   "outputs": [
    {
     "name": "stdout",
     "output_type": "stream",
     "text": [
      "b'(4) PythonRDD[6] at collect at C:\\\\Users\\\\Academy\\\\AppData\\\\Local\\\\Temp/ipykernel_6340/598154720.py:3 []\n",
      " |  ParallelCollectionRDD[4] at readRDDFromFile at PythonRDD.scala:262 []'\n"
     ]
    }
   ],
   "source": [
    "# informacion de como Spark crea el RDD datosEstudiantesKVRDD ... el \"linaje\" de un RDD ... DAG\n",
    "dagEstudiantes = datosEstudiantesKVRDD.toDebugString()\n",
    "strDebug = str(dagEstudiantes).split(\"\\\\n\")\n",
    "for st in strDebug:\n",
    "    print(st)"
   ]
  },
  {
   "cell_type": "code",
   "execution_count": 13,
   "id": "4b4901b5",
   "metadata": {
    "collapsed": true
   },
   "outputs": [
    {
     "data": {
      "text/plain": [
       "[('s2', (['Cristobal', 'D'], 'R')),\n",
       " ('s2', (['Cristobal', 'D'], 'C++')),\n",
       " ('s5', (['Amanda', 'N'], 'Python')),\n",
       " ('s1', (['Ana', 'D'], 'Python')),\n",
       " ('s1', (['Ana', 'D'], 'Java')),\n",
       " ('s3', (['Benjamin', 'N'], 'Python')),\n",
       " ('s3', (['Benjamin', 'N'], 'Python')),\n",
       " ('s3', (['Benjamin', 'N'], 'Scala'))]"
      ]
     },
     "execution_count": 13,
     "metadata": {},
     "output_type": "execute_result"
    }
   ],
   "source": [
    "datosEstudiantesLenguajesKVRDD = datosEstudiantesKVRDD.join(lenguajesEstudiantesRDD)\n",
    "datosEstudiantesLenguajesKVRDD.collect()"
   ]
  },
  {
   "cell_type": "code",
   "execution_count": 19,
   "id": "4c43d435",
   "metadata": {},
   "outputs": [
    {
     "name": "stdout",
     "output_type": "stream",
     "text": [
      "b'(8) PythonRDD[14] at collect at C:\\\\Users\\\\Academy\\\\AppData\\\\Local\\\\Temp/ipykernel_6340/3299161060.py:2 []\n",
      " |  MapPartitionsRDD[13] at mapPartitions at PythonRDD.scala:133 []\n",
      " |  ShuffledRDD[12] at partitionBy at NativeMethodAccessorImpl.java:0 []\n",
      " +-(8) PairwiseRDD[11] at join at C:\\\\Users\\\\Academy\\\\AppData\\\\Local\\\\Temp/ipykernel_6340/3299161060.py:1 []\n",
      "    |  PythonRDD[10] at join at C:\\\\Users\\\\Academy\\\\AppData\\\\Local\\\\Temp/ipykernel_6340/3299161060.py:1 []\n",
      "    |  UnionRDD[9] at union at NativeMethodAccessorImpl.java:0 []\n",
      "    |  PythonRDD[7] at RDD at PythonRDD.scala:53 []\n",
      "    |  ParallelCollectionRDD[4] at readRDDFromFile at PythonRDD.scala:262 []\n",
      "    |  PythonRDD[8] at RDD at PythonRDD.scala:53 []\n",
      "    |  ParallelCollectionRDD[5] at readRDDFromFile at PythonRDD.scala:262 []'\n"
     ]
    }
   ],
   "source": [
    "dagEstudiantes = datosEstudiantesLenguajesKVRDD.toDebugString()\n",
    "strDebug = str(dagEstudiantes).split(\"\\\\n\")\n",
    "for st in strDebug:\n",
    "    print(st)"
   ]
  },
  {
   "cell_type": "code",
   "execution_count": 15,
   "id": "218b5004",
   "metadata": {
    "collapsed": true
   },
   "outputs": [
    {
     "data": {
      "text/plain": [
       "[('s2', (['Cristobal', 'D'], 'R')),\n",
       " ('s2', (['Cristobal', 'D'], 'C++')),\n",
       " ('s5', (['Amanda', 'N'], 'Python')),\n",
       " ('s8', (['Sandra', 'D'], None)),\n",
       " ('s1', (['Ana', 'D'], 'Python')),\n",
       " ('s1', (['Ana', 'D'], 'Java')),\n",
       " ('s3', (['Benjamin', 'N'], 'Python')),\n",
       " ('s3', (['Benjamin', 'N'], 'Python')),\n",
       " ('s3', (['Benjamin', 'N'], 'Scala'))]"
      ]
     },
     "execution_count": 15,
     "metadata": {},
     "output_type": "execute_result"
    }
   ],
   "source": [
    "datosEstudiantesLenguajesLeftKVRDD = datosEstudiantesKVRDD.leftOuterJoin(lenguajesEstudiantesRDD)\n",
    "datosEstudiantesLenguajesLeftKVRDD.collect()"
   ]
  },
  {
   "cell_type": "code",
   "execution_count": 16,
   "id": "8cdd6e2b",
   "metadata": {
    "collapsed": true
   },
   "outputs": [
    {
     "data": {
      "text/plain": [
       "[('s2', (['Cristobal', 'D'], 'R')),\n",
       " ('s2', (['Cristobal', 'D'], 'C++')),\n",
       " ('s5', (['Amanda', 'N'], 'Python')),\n",
       " ('s1', (['Ana', 'D'], 'Python')),\n",
       " ('s1', (['Ana', 'D'], 'Java')),\n",
       " ('s3', (['Benjamin', 'N'], 'Python')),\n",
       " ('s3', (['Benjamin', 'N'], 'Python')),\n",
       " ('s3', (['Benjamin', 'N'], 'Scala')),\n",
       " ('s10', (None, 'React'))]"
      ]
     },
     "execution_count": 16,
     "metadata": {},
     "output_type": "execute_result"
    }
   ],
   "source": [
    "datosEstudiantesLenguajesRightKVRDD = datosEstudiantesKVRDD.rightOuterJoin(lenguajesEstudiantesRDD)\n",
    "datosEstudiantesLenguajesRightKVRDD.collect()"
   ]
  },
  {
   "cell_type": "code",
   "execution_count": null,
   "id": "396b6e8d",
   "metadata": {},
   "outputs": [],
   "source": []
  }
 ],
 "metadata": {
  "kernelspec": {
   "display_name": "Python 3 (ipykernel)",
   "language": "python",
   "name": "python3"
  },
  "language_info": {
   "codemirror_mode": {
    "name": "ipython",
    "version": 3
   },
   "file_extension": ".py",
   "mimetype": "text/x-python",
   "name": "python",
   "nbconvert_exporter": "python",
   "pygments_lexer": "ipython3",
   "version": "3.8.10"
  }
 },
 "nbformat": 4,
 "nbformat_minor": 5
}
