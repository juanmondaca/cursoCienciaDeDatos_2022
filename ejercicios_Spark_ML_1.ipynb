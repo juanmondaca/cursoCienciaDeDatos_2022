{
 "cells": [
  {
   "cell_type": "code",
   "execution_count": 1,
   "id": "067548bb",
   "metadata": {},
   "outputs": [],
   "source": [
    "# ejercicio de regresion lineal"
   ]
  },
  {
   "cell_type": "code",
   "execution_count": 2,
   "id": "1043a1ad",
   "metadata": {},
   "outputs": [],
   "source": [
    "from pyspark.sql import SparkSession"
   ]
  },
  {
   "cell_type": "code",
   "execution_count": 3,
   "id": "74213cf5",
   "metadata": {},
   "outputs": [],
   "source": [
    "spark = SparkSession.builder.appName('Regresion Lineal 01').getOrCreate()"
   ]
  },
  {
   "cell_type": "code",
   "execution_count": 4,
   "id": "e1bdd197",
   "metadata": {},
   "outputs": [],
   "source": [
    "publicidadDF = spark.read.format('csv').options(header='true',inferschema='true').\\\n",
    "load(\"file:///c:/archivos/publicidad.csv\")"
   ]
  },
  {
   "cell_type": "code",
   "execution_count": 5,
   "id": "b21194ce",
   "metadata": {
    "collapsed": true
   },
   "outputs": [
    {
     "name": "stdout",
     "output_type": "stream",
     "text": [
      "root\n",
      " |-- TV: double (nullable = true)\n",
      " |-- Radio: double (nullable = true)\n",
      " |-- Newspaper: double (nullable = true)\n",
      " |-- Sales: double (nullable = true)\n",
      "\n"
     ]
    }
   ],
   "source": [
    "publicidadDF.printSchema()"
   ]
  },
  {
   "cell_type": "code",
   "execution_count": 6,
   "id": "2e976590",
   "metadata": {
    "collapsed": true
   },
   "outputs": [
    {
     "name": "stdout",
     "output_type": "stream",
     "text": [
      "+-----+-----+---------+-----+\n",
      "|   TV|Radio|Newspaper|Sales|\n",
      "+-----+-----+---------+-----+\n",
      "|230.1| 37.8|     69.2| 22.1|\n",
      "| 44.5| 39.3|     45.1| 10.4|\n",
      "| 17.2| 45.9|     69.3|  9.3|\n",
      "|151.5| 41.3|     58.5| 18.5|\n",
      "|180.8| 10.8|     58.4| 12.9|\n",
      "|  8.7| 48.9|     75.0|  7.2|\n",
      "| 57.5| 32.8|     23.5| 11.8|\n",
      "|120.2| 19.6|     11.6| 13.2|\n",
      "|  8.6|  2.1|      1.0|  4.8|\n",
      "|199.8|  2.6|     21.2| 10.6|\n",
      "+-----+-----+---------+-----+\n",
      "only showing top 10 rows\n",
      "\n"
     ]
    }
   ],
   "source": [
    "publicidadDF.show(10)"
   ]
  },
  {
   "cell_type": "code",
   "execution_count": 7,
   "id": "8f257187",
   "metadata": {},
   "outputs": [],
   "source": [
    "# convertir la data a un vector denso\n",
    "# caracteristicas :-> TV,Radio, NewsPapers\n",
    "# label :-> Sales"
   ]
  },
  {
   "cell_type": "code",
   "execution_count": 8,
   "id": "caeef6d0",
   "metadata": {},
   "outputs": [],
   "source": [
    "from pyspark.ml.linalg import Vectors "
   ]
  },
  {
   "cell_type": "code",
   "execution_count": 12,
   "id": "baa30899",
   "metadata": {},
   "outputs": [],
   "source": [
    "def transformarDatos(data):\n",
    "    return data.rdd.map(lambda r: [Vectors.dense(r[:-1]),r[-1]]).toDF(['features','label'])"
   ]
  },
  {
   "cell_type": "code",
   "execution_count": 13,
   "id": "96d15b67",
   "metadata": {},
   "outputs": [],
   "source": [
    "publicidadTransformadaDF = transformarDatos(publicidadDF)"
   ]
  },
  {
   "cell_type": "code",
   "execution_count": 16,
   "id": "f48e8ccc",
   "metadata": {},
   "outputs": [
    {
     "name": "stdout",
     "output_type": "stream",
     "text": [
      "+-----------------+-----+\n",
      "|         features|label|\n",
      "+-----------------+-----+\n",
      "|[230.1,37.8,69.2]| 22.1|\n",
      "| [44.5,39.3,45.1]| 10.4|\n",
      "| [17.2,45.9,69.3]|  9.3|\n",
      "+-----------------+-----+\n",
      "only showing top 3 rows\n",
      "\n"
     ]
    }
   ],
   "source": [
    "publicidadTransformadaDF.show(3)"
   ]
  },
  {
   "cell_type": "code",
   "execution_count": 26,
   "id": "9c683ed5",
   "metadata": {},
   "outputs": [],
   "source": [
    "from pyspark.ml.feature import VectorIndexer\n",
    "indexadorFeature01 = VectorIndexer(inputCol='features',outputCol='featuresIndexadas',maxCategories=1000).\\\n",
    "fit(publicidadTransformadaDF)"
   ]
  },
  {
   "cell_type": "code",
   "execution_count": 30,
   "id": "f480979f",
   "metadata": {},
   "outputs": [],
   "source": [
    "from pyspark.ml.regression import LinearRegression"
   ]
  },
  {
   "cell_type": "code",
   "execution_count": 31,
   "id": "64f00d76",
   "metadata": {},
   "outputs": [],
   "source": [
    "rl = LinearRegression()"
   ]
  },
  {
   "cell_type": "code",
   "execution_count": null,
   "id": "12fe09a4",
   "metadata": {},
   "outputs": [],
   "source": [
    "rl.fit(datosTrain)"
   ]
  },
  {
   "cell_type": "code",
   "execution_count": 34,
   "id": "131c7976",
   "metadata": {},
   "outputs": [],
   "source": [
    "(datosTrain,datosTest) = publicidadTransformadaDF.randomSplit([0.7,0.3])"
   ]
  },
  {
   "cell_type": "code",
   "execution_count": 32,
   "id": "7d80da48",
   "metadata": {},
   "outputs": [],
   "source": [
    "from pyspark.ml import Pipeline"
   ]
  },
  {
   "cell_type": "code",
   "execution_count": 35,
   "id": "1495dbdf",
   "metadata": {},
   "outputs": [],
   "source": [
    "pipeline = Pipeline(stages=[indexadorFeature01,rl])\n",
    "modeloRL = pipeline.fit(datosTrain)"
   ]
  },
  {
   "cell_type": "code",
   "execution_count": 38,
   "id": "ed14aab4",
   "metadata": {},
   "outputs": [
    {
     "data": {
      "text/plain": [
       "[VectorIndexerModel: uid=VectorIndexer_c65b5a48e702, numFeatures=3, handleInvalid=error,\n",
       " LinearRegressionModel: uid=LinearRegression_af048eb0acfd, numFeatures=3]"
      ]
     },
     "execution_count": 38,
     "metadata": {},
     "output_type": "execute_result"
    }
   ],
   "source": [
    "modeloRL.stages"
   ]
  },
  {
   "cell_type": "code",
   "execution_count": 37,
   "id": "5c588096",
   "metadata": {},
   "outputs": [
    {
     "data": {
      "text/plain": [
       "DenseVector([0.045, 0.195, -0.003])"
      ]
     },
     "execution_count": 37,
     "metadata": {},
     "output_type": "execute_result"
    }
   ],
   "source": [
    "modeloRL.stages[-1].coefficients"
   ]
  },
  {
   "cell_type": "code",
   "execution_count": 39,
   "id": "0bd1774d",
   "metadata": {},
   "outputs": [],
   "source": [
    "prediccionesDF = modeloRL.transform(datosTest)"
   ]
  },
  {
   "cell_type": "code",
   "execution_count": 40,
   "id": "817523e3",
   "metadata": {},
   "outputs": [
    {
     "name": "stdout",
     "output_type": "stream",
     "text": [
      "+-----------------+-----+------------------+------------------+\n",
      "|         features|label| featuresIndexadas|        prediction|\n",
      "+-----------------+-----+------------------+------------------+\n",
      "|   [4.1,11.6,5.7]|  3.2|   [1.0,43.0,16.0]| 5.369494700184046|\n",
      "| [13.2,15.9,49.6]|  5.6| [10.0,58.0,133.0]| 6.484630739785105|\n",
      "| [16.9,43.7,89.4]|  8.7|[11.0,151.0,169.0]| 11.95258858488634|\n",
      "| [17.2,45.9,69.3]|  9.3|[12.0,156.0,160.0]|12.456158174553375|\n",
      "| [26.8,33.0,19.3]|  8.8| [22.0,113.0,59.0]|10.523949513141162|\n",
      "|  [27.5,1.6,20.7]|  6.9|   [23.0,7.0,66.0]| 4.426925285775773|\n",
      "| [38.0,40.3,11.9]| 10.9| [27.0,139.0,38.0]|12.474362142355707|\n",
      "|  [38.2,3.7,13.8]|  7.6|  [28.0,18.0,44.0]| 5.339100548231294|\n",
      "|  [48.3,47.0,8.5]| 11.6| [34.0,160.0,26.0]| 14.25510260412803|\n",
      "|[67.8,36.6,114.0]| 12.5|[43.0,126.0,171.0]|12.784420368999983|\n",
      "| [68.4,44.5,35.6]| 13.6|[44.0,154.0,105.0]|14.590085834508587|\n",
      "| [69.2,20.5,18.3]| 11.3|  [46.0,72.0,55.0]| 9.997594460264432|\n",
      "| [76.4,26.7,22.3]| 11.8|  [54.0,90.0,71.0]|11.518820308598908|\n",
      "| [78.2,46.8,34.5]| 14.6|[55.0,159.0,101.0]|  15.4831612876393|\n",
      "|  [90.4,0.3,23.2]|  8.7|   [61.0,1.0,74.0]| 6.997213598207898|\n",
      "|  [97.2,1.5,30.0]|  9.6|   [66.0,6.0,90.0]| 7.516734516964883|\n",
      "|   [97.5,7.6,7.2]|  9.7|  [67.0,29.0,21.0]| 8.789154688162165|\n",
      "|[109.8,14.3,31.7]| 12.4|  [72.0,51.0,95.0]|10.575287685108023|\n",
      "|[110.7,40.6,63.2]| 16.0|[73.0,140.0,154.0]|15.649821540704206|\n",
      "| [117.2,14.7,5.4]| 11.9|  [76.0,53.0,14.0]|11.066196142903634|\n",
      "+-----------------+-----+------------------+------------------+\n",
      "only showing top 20 rows\n",
      "\n"
     ]
    }
   ],
   "source": [
    "prediccionesDF.show()"
   ]
  },
  {
   "cell_type": "code",
   "execution_count": null,
   "id": "62a6e4d9",
   "metadata": {},
   "outputs": [],
   "source": []
  }
 ],
 "metadata": {
  "kernelspec": {
   "display_name": "Python 3 (ipykernel)",
   "language": "python",
   "name": "python3"
  },
  "language_info": {
   "codemirror_mode": {
    "name": "ipython",
    "version": 3
   },
   "file_extension": ".py",
   "mimetype": "text/x-python",
   "name": "python",
   "nbconvert_exporter": "python",
   "pygments_lexer": "ipython3",
   "version": "3.8.10"
  }
 },
 "nbformat": 4,
 "nbformat_minor": 5
}
