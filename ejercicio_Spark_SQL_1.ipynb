{
 "cells": [
  {
   "cell_type": "code",
   "execution_count": null,
   "id": "af2307e9",
   "metadata": {},
   "outputs": [],
   "source": [
    "# import las librerias\n",
    "from pyspark import SparkContext\n",
    "from pyspark.sql import SparkSession"
   ]
  },
  {
   "cell_type": "code",
   "execution_count": null,
   "id": "ddf85fc4",
   "metadata": {},
   "outputs": [],
   "source": [
    "sc = SparkContext.getOrCreate()\n",
    "spark = SparkSession(sc)"
   ]
  },
  {
   "cell_type": "code",
   "execution_count": null,
   "id": "e768d626",
   "metadata": {},
   "outputs": [],
   "source": [
    "spark"
   ]
  },
  {
   "cell_type": "code",
   "execution_count": null,
   "id": "3734b732",
   "metadata": {},
   "outputs": [],
   "source": [
    "listaDatosMac = [\n",
    "         (1, 'MacBook Pro', 2015, '15\"', '16GB', '512GB SSD'\n",
    "           , 13.75, 9.48, 0.61, 4.02)\n",
    "       , (2, 'MacBook', 2016, '12\"', '8GB', '256GB SSD'\n",
    "           , 11.04, 7.74, 0.52, 2.03)\n",
    "       , (3, 'MacBook Air', 2016, '13.3\"', '8GB', '128GB SSD'\n",
    "           , 12.8, 8.94, 0.68, 2.96)\n",
    "       , (4, 'iMac', 2017, '27\"', '64GB', '1TB SSD'\n",
    "           , 25.6, 8.0, 20.3, 20.8)\n",
    "]"
   ]
  },
  {
   "cell_type": "code",
   "execution_count": null,
   "id": "42f6c960",
   "metadata": {},
   "outputs": [],
   "source": [
    "listaDatosMacRDD = sc.parallelize(listaDatosMac)\n",
    "listaDatosMacRDD.collect()"
   ]
  },
  {
   "cell_type": "code",
   "execution_count": null,
   "id": "d5f2b572",
   "metadata": {},
   "outputs": [],
   "source": [
    "listaDatosMacDF = listaDatosMacRDD.toDF()"
   ]
  },
  {
   "cell_type": "code",
   "execution_count": null,
   "id": "8bf8d8c3",
   "metadata": {},
   "outputs": [],
   "source": [
    "listaDatosMacDF.show()"
   ]
  },
  {
   "cell_type": "code",
   "execution_count": null,
   "id": "5f62a324",
   "metadata": {},
   "outputs": [],
   "source": [
    "listaDatosMacDF.printSchema()"
   ]
  },
  {
   "cell_type": "code",
   "execution_count": 9,
   "id": "182f87b2",
   "metadata": {},
   "outputs": [],
   "source": [
    "listaDatosMac2DF = spark.createDataFrame(listaDatosMac,['id','modelo','anno','pantalla','ram','hdd','w','d','h','z'])"
   ]
  },
  {
   "cell_type": "code",
   "execution_count": 10,
   "id": "44401a94",
   "metadata": {},
   "outputs": [
    {
     "data": {
      "text/plain": [
       "[Row(id=1, modelo='MacBook Pro', anno=2015, pantalla='15\"', ram='16GB', hdd='512GB SSD', w=13.75, d=9.48, h=0.61, z=4.02),\n",
       " Row(id=2, modelo='MacBook', anno=2016, pantalla='12\"', ram='8GB', hdd='256GB SSD', w=11.04, d=7.74, h=0.52, z=2.03),\n",
       " Row(id=3, modelo='MacBook Air', anno=2016, pantalla='13.3\"', ram='8GB', hdd='128GB SSD', w=12.8, d=8.94, h=0.68, z=2.96)]"
      ]
     },
     "execution_count": 10,
     "metadata": {},
     "output_type": "execute_result"
    }
   ],
   "source": [
    "listaDatosMac2DF.take(3)"
   ]
  },
  {
   "cell_type": "code",
   "execution_count": 11,
   "id": "6e4d7f0f",
   "metadata": {},
   "outputs": [
    {
     "name": "stdout",
     "output_type": "stream",
     "text": [
      "+---+-----------+----+--------+----+---------+-----+----+----+----+\n",
      "| id|     modelo|anno|pantalla| ram|      hdd|    w|   d|   h|   z|\n",
      "+---+-----------+----+--------+----+---------+-----+----+----+----+\n",
      "|  1|MacBook Pro|2015|     15\"|16GB|512GB SSD|13.75|9.48|0.61|4.02|\n",
      "|  2|    MacBook|2016|     12\"| 8GB|256GB SSD|11.04|7.74|0.52|2.03|\n",
      "|  3|MacBook Air|2016|   13.3\"| 8GB|128GB SSD| 12.8|8.94|0.68|2.96|\n",
      "|  4|       iMac|2017|     27\"|64GB|  1TB SSD| 25.6| 8.0|20.3|20.8|\n",
      "+---+-----------+----+--------+----+---------+-----+----+----+----+\n",
      "\n"
     ]
    }
   ],
   "source": [
    "listaDatosMac2DF.show()"
   ]
  },
  {
   "cell_type": "code",
   "execution_count": 12,
   "id": "5b899b8a",
   "metadata": {},
   "outputs": [
    {
     "name": "stdout",
     "output_type": "stream",
     "text": [
      "root\n",
      " |-- id: long (nullable = true)\n",
      " |-- modelo: string (nullable = true)\n",
      " |-- anno: long (nullable = true)\n",
      " |-- pantalla: string (nullable = true)\n",
      " |-- ram: string (nullable = true)\n",
      " |-- hdd: string (nullable = true)\n",
      " |-- w: double (nullable = true)\n",
      " |-- d: double (nullable = true)\n",
      " |-- h: double (nullable = true)\n",
      " |-- z: double (nullable = true)\n",
      "\n"
     ]
    }
   ],
   "source": [
    "listaDatosMac2DF.printSchema()"
   ]
  },
  {
   "cell_type": "code",
   "execution_count": 14,
   "id": "bf645d60",
   "metadata": {},
   "outputs": [],
   "source": [
    "listadatosMAcJsonDF = spark.read.json('file:///c:/archivos/macs.json')"
   ]
  },
  {
   "cell_type": "code",
   "execution_count": 20,
   "id": "5ad9dfde",
   "metadata": {},
   "outputs": [
    {
     "name": "stdout",
     "output_type": "stream",
     "text": [
      "root\n",
      " |--  D: double (nullable = true)\n",
      " |--  H: double (nullable = true)\n",
      " |--  HDD: string (nullable = true)\n",
      " |--  Model: string (nullable = true)\n",
      " |--  RAM: string (nullable = true)\n",
      " |--  ScreenSize: string (nullable = true)\n",
      " |--  W: double (nullable = true)\n",
      " |--  Weight: double (nullable = true)\n",
      " |--  Year: long (nullable = true)\n",
      " |-- Id: long (nullable = true)\n",
      "\n"
     ]
    }
   ],
   "source": [
    "listadatosMAcJsonDF.printSchema()"
   ]
  },
  {
   "cell_type": "code",
   "execution_count": 15,
   "id": "b38f46a7",
   "metadata": {
    "collapsed": true
   },
   "outputs": [
    {
     "name": "stdout",
     "output_type": "stream",
     "text": [
      "+----+----+---------+-----------+----+-----------+-----+-------+-----+---+\n",
      "|   D|   H|      HDD|      Model| RAM| ScreenSize|    W| Weight| Year| Id|\n",
      "+----+----+---------+-----------+----+-----------+-----+-------+-----+---+\n",
      "|9.48|0.61|512GB SSD|MacBook Pro|16GB|        15\"|13.75|   4.02| 2015|  1|\n",
      "|7.74|0.52|256GB SSD|    MacBook| 8GB|        12\"|11.04|   2.03| 2016|  2|\n",
      "|8.94|0.68|128GB SSD|MacBook Air| 8GB|      13.3\"| 12.8|   2.96| 2016|  3|\n",
      "| 8.0|20.3|  1TB SSD|       iMac|64GB|        27\"| 25.6|   20.8| 2017|  4|\n",
      "+----+----+---------+-----------+----+-----------+-----+-------+-----+---+\n",
      "\n"
     ]
    }
   ],
   "source": [
    "listadatosMAcJsonDF.show()"
   ]
  },
  {
   "cell_type": "code",
   "execution_count": 17,
   "id": "968a6352",
   "metadata": {
    "collapsed": true
   },
   "outputs": [
    {
     "name": "stdout",
     "output_type": "stream",
     "text": [
      "+---+-----------+-----+-----------+----+---------+-----+----+----+-------+\n",
      "| Id|      Model| Year| ScreenSize| RAM|      HDD|    W|   D|   H| Weight|\n",
      "+---+-----------+-----+-----------+----+---------+-----+----+----+-------+\n",
      "|  1|MacBook Pro| 2015|        15\"|16GB|512GB SSD|13.75|9.48|0.61|   4.02|\n",
      "|  2|    MacBook| 2016|        12\"| 8GB|256GB SSD|11.04|7.74|0.52|   2.03|\n",
      "|  3|MacBook Air| 2016|      13.3\"| 8GB|128GB SSD| 12.8|8.94|0.68|   2.96|\n",
      "|  4|       iMac| 2017|        27\"|64GB|  1TB SSD| 25.6| 8.0|20.3|   20.8|\n",
      "+---+-----------+-----+-----------+----+---------+-----+----+----+-------+\n",
      "\n"
     ]
    }
   ],
   "source": [
    "listadatosMAcCsvDF = spark.read.csv('file:///c:/archivos/macs.csv',header=True)\n",
    "listadatosMAcCsvDF.show()"
   ]
  },
  {
   "cell_type": "code",
   "execution_count": 21,
   "id": "6580e1b3",
   "metadata": {},
   "outputs": [
    {
     "name": "stdout",
     "output_type": "stream",
     "text": [
      "+-----------+\n",
      "|      Model|\n",
      "+-----------+\n",
      "|MacBook Pro|\n",
      "|    MacBook|\n",
      "|MacBook Air|\n",
      "|       iMac|\n",
      "+-----------+\n",
      "\n"
     ]
    }
   ],
   "source": [
    "listadatosMAcJsonDF.select(\" Model\").show()"
   ]
  },
  {
   "cell_type": "code",
   "execution_count": 22,
   "id": "3e294718",
   "metadata": {},
   "outputs": [
    {
     "name": "stdout",
     "output_type": "stream",
     "text": [
      "+-----+-----+\n",
      "| Year|count|\n",
      "+-----+-----+\n",
      "| 2016|    2|\n",
      "| 2017|    1|\n",
      "| 2015|    1|\n",
      "+-----+-----+\n",
      "\n"
     ]
    }
   ],
   "source": [
    "listadatosMAcJsonDF.groupBy(\" Year\").count().show()"
   ]
  },
  {
   "cell_type": "code",
   "execution_count": null,
   "id": "2db34180",
   "metadata": {},
   "outputs": [],
   "source": []
  }
 ],
 "metadata": {
  "kernelspec": {
   "display_name": "Python 3 (ipykernel)",
   "language": "python",
   "name": "python3"
  },
  "language_info": {
   "codemirror_mode": {
    "name": "ipython",
    "version": 3
   },
   "file_extension": ".py",
   "mimetype": "text/x-python",
   "name": "python",
   "nbconvert_exporter": "python",
   "pygments_lexer": "ipython3",
   "version": "3.8.10"
  }
 },
 "nbformat": 4,
 "nbformat_minor": 5
}
